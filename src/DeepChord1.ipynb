{
  "nbformat": 4,
  "nbformat_minor": 0,
  "metadata": {
    "colab": {
      "provenance": []
    },
    "kernelspec": {
      "name": "python3",
      "display_name": "Python 3"
    },
    "language_info": {
      "name": "python"
    }
  },
  "cells": [
    {
      "cell_type": "code",
      "execution_count": 1,
      "metadata": {
        "id": "kI7DpRT51JOG"
      },
      "outputs": [],
      "source": [
        "import os\n",
        "from bs4 import BeautifulSoup\n",
        "import requests\n",
        "import urllib.request\n",
        "from tqdm import tqdm\n",
        "import math\n",
        "import time\n",
        "import re"
      ]
    },
    {
      "cell_type": "code",
      "source": [
        "# 保存先作成\n",
        "save_dir = './html/'\n",
        "os.makedirs(save_dir, exist_ok=True)\n",
        "\n",
        "# アーティスト検索ページ\n",
        "url = 'https://music.j-total.net/a_search/'\n",
        "r = requests.get(url)\n",
        "soup = BeautifulSoup(r.content, 'html.parser')\n",
        "print(soup)\n",
        "# エンコーディングをセット（shift-jis）\n",
        "r.encoding = r.apparent_encoding\n",
        "\n",
        "# 各五十音のリンクを取得\n",
        "moji_links = []\n",
        "gojyuon = soup.find_all('select')\n",
        "\n",
        "for g in gojyuon:\n",
        "    moji_lst = g.find_all('option')[1:] # 最初の要素はリンクが含まれていない\n",
        "    for moji in moji_lst:\n",
        "        moji_links.append(moji.get('value'))\n",
        "print(moji_links)"
      ],
      "metadata": {
        "id": "MoBdjVq2ERn4"
      },
      "execution_count": null,
      "outputs": []
    },
    {
      "cell_type": "code",
      "source": [
        "# 頭文字ごと処理\n",
        "artist_link_dict = {}\n",
        "for moji_link in tqdm(moji_links):\n",
        "    # 各文字のURL\n",
        "    moji_url = url + moji_link\n",
        "\n",
        "    # html取得\n",
        "    r_moji = requests.get(moji_url)\n",
        "    soup_moji = BeautifulSoup(r_moji.content, 'html.parser')\n",
        "\n",
        "    # アーティストのリンクを取得して、　アーティスト名：リンク　となる辞書を作成する\n",
        "    artist_links = soup_moji.find_all('a', href=re.compile(\"^//music.j-total.net/db/search.cgi\"))\n",
        "    for link in artist_links:\n",
        "        name = link.text.replace('\\n', '').replace(' ', '')\n",
        "        if len(name) == 0:\n",
        "            continue\n",
        "        artist_link_dict[name] = 'http:' + link.get('href')\n",
        "print(artist_link_dict['SaucyDog'])"
      ],
      "metadata": {
        "id": "q15o8GxBEc-c",
        "colab": {
          "base_uri": "https://localhost:8080/"
        },
        "outputId": "dfea2372-2a35-448c-bab0-a22879c47eae"
      },
      "execution_count": 3,
      "outputs": [
        {
          "output_type": "stream",
          "name": "stderr",
          "text": [
            "100%|██████████| 44/44 [00:14<00:00,  2.99it/s]"
          ]
        },
        {
          "output_type": "stream",
          "name": "stdout",
          "text": [
            "http://music.j-total.net/db/search.cgi?mode=search&page=1&sort=ac_new&word=%89%CC%81FSaucy%20Dog%20&method=and\n"
          ]
        },
        {
          "output_type": "stream",
          "name": "stderr",
          "text": [
            "\n"
          ]
        }
      ]
    },
    {
      "cell_type": "code",
      "source": [
        "print(artist_link_dict)"
      ],
      "metadata": {
        "id": "hJML5UltNDOs"
      },
      "execution_count": null,
      "outputs": []
    },
    {
      "cell_type": "code",
      "source": [
        "for artist in artist_link_dict:\n",
        "    # 曲数をカウントする\n",
        "    song_cnt = 0\n",
        "\n",
        "    # アーティストごとにhtmlを保存するフォルダを作成する\n",
        "    artist_dir = save_dir + artist\n",
        "    os.makedirs(artist_dir, exist_ok=True)\n",
        "\n",
        "    # アーティストの曲一覧ページを開いてhtml取得\n",
        "    ar_url = artist_link_dict[artist]\n",
        "    try:\n",
        "        r_ar = requests.get(ar_url, timeout=3.5)\n",
        "    except:\n",
        "        print('{} skipされた'.format(artist))\n",
        "        continue\n",
        "    soup_ar = BeautifulSoup(r_ar.content, 'html.parser')\n",
        "\n",
        "    # 歌手の総曲数を求める\n",
        "    pg = soup_ar.find_all('font', size='3')[-1]\n",
        "    pg_string = pg.text.split(' ')\n",
        "    total_num_index = pg_string.index('件中') - 1\n",
        "    total_num = int(pg_string[total_num_index])\n",
        "    exit()  \n",
        "\n",
        "\n",
        "\n",
        "    # 総曲数からページ数を求める\n",
        "    max_page = math.ceil(total_num / 20)\n",
        "    for p in range(1, max_page+1):\n",
        "        page_url = ar_url + '&page={}'.format(p)\n",
        "        try:\n",
        "            r_song_lst = requests.get(page_url, timeout=3.5)\n",
        "        except:\n",
        "            print('{} {} skipされた'.format(artist, p))\n",
        "            continue\n",
        "        soup_song_lst = BeautifulSoup(r_song_lst.content, 'html.parser')\n",
        "\n",
        "        # そのページの全曲URLを取得\n",
        "        song_links = soup_song_lst.find_all('a', href=re.compile(\"^//music.j-total.net/data\"), target='')\n",
        "        print(re.compile(\"^//music.j-total.net/db/rank.cgi\\?mode\"))\n",
        "        print(song_links)\n",
        "        # 曲ごと処理\n",
        "        for s_link in song_links:\n",
        "            s_url = 'http:' + s_link.get('href')\n",
        "            song_name = s_link.find('b').text\n",
        "\n",
        "            # 曲名.htmlで保存したいが、曲名に変な文字が入ってる場合はsong_cntで代用する\n",
        "            try:\n",
        "                data = urllib.request.urlopen(s_url, timeout=3.5).read()\n",
        "                try:\n",
        "                    with open(artist_dir + '/{}.html'.format(song_name), mode='wb') as ht:\n",
        "                        ht.write(data)\n",
        "                except:\n",
        "                    with open(artist_dir + '/{}.html'.format(song_cnt), mode='wb') as ht:\n",
        "                        ht.write(data)\n",
        "            except:\n",
        "                print('{} {} {} skipされた'.format(artist, p, s_url))\n",
        "            song_cnt += 1\n",
        "            time.sleep(1) # お約束\n",
        "\n",
        "    print('{} ok'.format(artist))"
      ],
      "metadata": {
        "id": "LzYk8dPvEeOJ",
        "colab": {
          "base_uri": "https://localhost:8080/",
          "height": 818
        },
        "outputId": "ae9b5a13-ee78-4b70-dcfa-0d2c625286c7"
      },
      "execution_count": 5,
      "outputs": [
        {
          "output_type": "stream",
          "name": "stdout",
          "text": [
            "re.compile('^//music.j-total.net/db/rank.cgi\\\\?mode')\n",
            "[<a href=\"//music.j-total.net/data/001a/057_&amp;G/001.html\" target=\"\"><font size=\"3\"><b>Wonderful Life</b></font></a>]\n",
            "＆G ok\n",
            "re.compile('^//music.j-total.net/db/rank.cgi\\\\?mode')\n",
            "[<a href=\"//music.j-total.net/data/001a/074_abingdon_boys_school/003.html\" target=\"\"><font size=\"3\"><b>BLADE CHORD</b></font></a>, <a href=\"//music.j-total.net/data/001a/074_abingdon_boys_school/001.html\" target=\"\"><font size=\"3\"><b>INNOCENT SORROW</b></font></a>, <a href=\"//music.j-total.net/data/001a/074_abingdon_boys_school/005.html\" target=\"\"><font size=\"3\"><b>JAP</b></font></a>, <a href=\"//music.j-total.net/data/001a/074_abingdon_boys_school/002.html\" target=\"\"><font size=\"3\"><b>Nephilim</b></font></a>, <a href=\"//music.j-total.net/data/001a/074_abingdon_boys_school/004.html\" target=\"\"><font size=\"3\"><b>STRENGTH.</b></font></a>, <a href=\"//music.j-total.net/data/001a/074_abingdon_boys_school/006.html\" target=\"\"><font size=\"3\"><b>キミノウタ</b></font></a>]\n",
            "abingdonboysschool ok\n",
            "re.compile('^//music.j-total.net/db/rank.cgi\\\\?mode')\n",
            "[<a href=\"//music.j-total.net/data/001a/047_access/002.html\" target=\"\"><font size=\"3\"><b>Dream Runner</b></font></a>, <a href=\"//music.j-total.net/data/001a/047_access/001.html\" target=\"\"><font size=\"3\"><b>REAL AT NIGHT〜眠れぬ夜の向こうに〜</b></font></a>]\n",
            "access ok\n",
            "re.compile('^//music.j-total.net/db/rank.cgi\\\\?mode')\n",
            "[<a href=\"//music.j-total.net/data/001a/041_ACIDMAN/014.html\" target=\"\"><font size=\"3\"><b>EDEN</b></font></a>, <a href=\"//music.j-total.net/data/001a/041_ACIDMAN/010.html\" target=\"\"><font size=\"3\"><b>EVERLIGHT</b></font></a>, <a href=\"//music.j-total.net/data/001a/041_ACIDMAN/012.html\" target=\"\"><font size=\"3\"><b>Stay in my hand</b></font></a>, <a href=\"//music.j-total.net/data/001a/041_ACIDMAN/013.html\" target=\"\"><font size=\"3\"><b>star rain</b></font></a>, <a href=\"//music.j-total.net/data/001a/041_ACIDMAN/003.html\" target=\"\"><font size=\"3\"><b>type-A</b></font></a>, <a href=\"//music.j-total.net/data/001a/041_ACIDMAN/016.html\" target=\"\"><font size=\"3\"><b>your soul</b></font></a>, <a href=\"//music.j-total.net/data/001a/041_ACIDMAN/006.html\" target=\"\"><font size=\"3\"><b>アイソトープ</b></font></a>, <a href=\"//music.j-total.net/data/001a/041_ACIDMAN/015.html\" target=\"\"><font size=\"3\"><b>ハレルヤ</b></font></a>, <a href=\"//music.j-total.net/data/001a/041_ACIDMAN/004.html\" target=\"\"><font size=\"3\"><b>リピート</b></font></a>, <a href=\"//music.j-total.net/data/001a/041_ACIDMAN/009.html\" target=\"\"><font size=\"3\"><b>永遠の底</b></font></a>, <a href=\"//music.j-total.net/data/001a/041_ACIDMAN/017.html\" target=\"\"><font size=\"3\"><b>黄昏の街</b></font></a>, <a href=\"//music.j-total.net/data/001a/041_ACIDMAN/018.html\" target=\"\"><font size=\"3\"><b>最期の景色</b></font></a>, <a href=\"//music.j-total.net/data/001a/041_ACIDMAN/008.html\" target=\"\"><font size=\"3\"><b>式日</b></font></a>, <a href=\"//music.j-total.net/data/001a/041_ACIDMAN/007.html\" target=\"\"><font size=\"3\"><b>水写</b></font></a>, <a href=\"//music.j-total.net/data/001a/041_ACIDMAN/011.html\" target=\"\"><font size=\"3\"><b>世界が終わる夜</b></font></a>, <a href=\"//music.j-total.net/data/001a/041_ACIDMAN/001.html\" target=\"\"><font size=\"3\"><b>赤橙</b></font></a>, <a href=\"//music.j-total.net/data/001a/041_ACIDMAN/005.html\" target=\"\"><font size=\"3\"><b>波、白く</b></font></a>, <a href=\"//music.j-total.net/data/001a/041_ACIDMAN/002.html\" target=\"\"><font size=\"3\"><b>飛光</b></font></a>]\n",
            "ACIDMAN ok\n",
            "re.compile('^//music.j-total.net/db/rank.cgi\\\\?mode')\n",
            "[<a href=\"//music.j-total.net/data/001a/078_Acid_Black_Cherry/022.html\" target=\"\"><font size=\"3\"><b>&amp; you</b></font></a>, <a href=\"//music.j-total.net/data/001a/078_Acid_Black_Cherry/004.html\" target=\"\"><font size=\"3\"><b>20+∞Century Boys</b></font></a>, <a href=\"//music.j-total.net/data/001a/078_Acid_Black_Cherry/009.html\" target=\"\"><font size=\"3\"><b>CRISIS</b></font></a>, <a href=\"//music.j-total.net/data/001a/078_Acid_Black_Cherry/010.html\" target=\"\"><font size=\"3\"><b>Greed Greed Greed</b></font></a>, <a href=\"//music.j-total.net/data/001a/078_Acid_Black_Cherry/013.html\" target=\"\"><font size=\"3\"><b>INCUBUS</b></font></a>, <a href=\"//music.j-total.net/data/001a/078_Acid_Black_Cherry/017.html\" target=\"\"><font size=\"3\"><b>L -エル-</b></font></a>, <a href=\"//music.j-total.net/data/001a/078_Acid_Black_Cherry/021.html\" target=\"\"><font size=\"3\"><b>Loves</b></font></a>, <a href=\"//music.j-total.net/data/001a/078_Acid_Black_Cherry/014.html\" target=\"\"><font size=\"3\"><b>Round &amp; Round</b></font></a>, <a href=\"//music.j-total.net/data/001a/078_Acid_Black_Cherry/018.html\" target=\"\"><font size=\"3\"><b>colors</b></font></a>, <a href=\"//music.j-total.net/data/001a/078_Acid_Black_Cherry/015.html\" target=\"\"><font size=\"3\"><b>liar or LIAR?</b></font></a>, <a href=\"//music.j-total.net/data/001a/078_Acid_Black_Cherry/019.html\" target=\"\"><font size=\"3\"><b>versus G</b></font></a>, <a href=\"//music.j-total.net/data/001a/078_Acid_Black_Cherry/016.html\" target=\"\"><font size=\"3\"><b>エストエム</b></font></a>, <a href=\"//music.j-total.net/data/001a/078_Acid_Black_Cherry/008.html\" target=\"\"><font size=\"3\"><b>シャングリラ</b></font></a>, <a href=\"//music.j-total.net/data/001a/078_Acid_Black_Cherry/007.html\" target=\"\"><font size=\"3\"><b>ピストル</b></font></a>, <a href=\"//music.j-total.net/data/001a/078_Acid_Black_Cherry/002.html\" target=\"\"><font size=\"3\"><b>愛してない</b></font></a>, <a href=\"//music.j-total.net/data/001a/078_Acid_Black_Cherry/012.html\" target=\"\"><font size=\"3\"><b>君がいない、あの日から…</b></font></a>, <a href=\"//music.j-total.net/data/001a/078_Acid_Black_Cherry/011.html\" target=\"\"><font size=\"3\"><b>黒猫 〜Adult Black Cat〜</b></font></a>, <a href=\"//music.j-total.net/data/001a/078_Acid_Black_Cherry/003.html\" target=\"\"><font size=\"3\"><b>少女の祈り</b></font></a>, <a href=\"//music.j-total.net/data/001a/078_Acid_Black_Cherry/001.html\" target=\"\"><font size=\"3\"><b>冬の幻</b></font></a>, <a href=\"//music.j-total.net/data/001a/078_Acid_Black_Cherry/005.html\" target=\"\"><font size=\"3\"><b>眠り姫</b></font></a>, <a href=\"//music.j-total.net/data/001a/078_Acid_Black_Cherry/020.html\" target=\"\"><font size=\"3\"><b>眠れぬ夜</b></font></a>, <a href=\"//music.j-total.net/data/001a/078_Acid_Black_Cherry/006.html\" target=\"\"><font size=\"3\"><b>優しい嘘</b></font></a>]\n",
            "re.compile('^//music.j-total.net/db/rank.cgi\\\\?mode')\n",
            "[]\n",
            "AcidBlackCherry ok\n",
            "re.compile('^//music.j-total.net/db/rank.cgi\\\\?mode')\n",
            "[]\n",
            "Ado ok\n",
            "re.compile('^//music.j-total.net/db/rank.cgi\\\\?mode')\n",
            "[<a href=\"//music.j-total.net/data/001a/064_AI/009.html\" target=\"\"><font size=\"3\"><b>Don't Turn Me Off</b></font></a>, <a href=\"//music.j-total.net/data/001a/064_AI/012.html\" target=\"\"><font size=\"3\"><b>GOTTA GET MINE Feat. Bridget Kelly</b></font></a>, <a href=\"//music.j-total.net/data/001a/064_AI/010.html\" target=\"\"><font size=\"3\"><b>HANABI</b></font></a>, <a href=\"//music.j-total.net/data/001a/064_AI/008.html\" target=\"\"><font size=\"3\"><b>MORIAGARO Feat. Jeremih</b></font></a>, <a href=\"//music.j-total.net/data/001a/064_AI/013.html\" target=\"\"><font size=\"3\"><b>MY PLACE</b></font></a>, <a href=\"//music.j-total.net/data/001a/064_AI/002.html\" target=\"\"><font size=\"3\"><b>ONE</b></font></a>, <a href=\"//music.j-total.net/data/001a/064_AI/005.html\" target=\"\"><font size=\"3\"><b>VOICE</b></font></a>, <a href=\"//music.j-total.net/data/001a/064_AI/011.html\" target=\"\"><font size=\"3\"><b>sogood</b></font></a>, <a href=\"//music.j-total.net/data/001a/064_AI/003.html\" target=\"\"><font size=\"3\"><b>おくりびと</b></font></a>, <a href=\"//music.j-total.net/data/001a/064_AI/007.html\" target=\"\"><font size=\"3\"><b>みんながみんな英雄</b></font></a>, <a href=\"//music.j-total.net/data/001a/064_AI/004.html\" target=\"\"><font size=\"3\"><b>ハピネス</b></font></a>, <a href=\"//music.j-total.net/data/001a/064_AI/006.html\" target=\"\"><font size=\"3\"><b>ママへ</b></font></a>]\n",
            "AI 1 http://music.j-total.net/data/001a/064_AI/007.html skipされた\n",
            "AI 1 http://music.j-total.net/data/001a/064_AI/006.html skipされた\n",
            "AI ok\n",
            "re.compile('^//music.j-total.net/db/rank.cgi\\\\?mode')\n",
            "[]\n",
            "AL ok\n",
            "re.compile('^//music.j-total.net/db/rank.cgi\\\\?mode')\n",
            "[<a href=\"//music.j-total.net/data/001a/010_aiko/076.html\" target=\"\"><font size=\"3\"><b>4月の雨</b></font></a>, <a href=\"//music.j-total.net/data/001a/010_aiko/100.html\" target=\"\"><font size=\"3\"><b>4秒</b></font></a>, <a href=\"//music.j-total.net/data/001a/010_aiko/071.html\" target=\"\"><font size=\"3\"><b>Aka</b></font></a>, <a href=\"//music.j-total.net/data/001a/010_aiko/060.html\" target=\"\"><font size=\"3\"><b>KissHug</b></font></a>, <a href=\"//music.j-total.net/data/001a/010_aiko/075.html\" target=\"\"><font size=\"3\"><b>Loveletter</b></font></a>, <a href=\"//music.j-total.net/data/001a/010_aiko/045.html\" target=\"\"><font size=\"3\"><b>September</b></font></a>, <a href=\"//music.j-total.net/data/001a/010_aiko/028.html\" target=\"\"><font size=\"3\"><b>Smooch!</b></font></a>, <a href=\"//music.j-total.net/data/001a/010_aiko/044.html\" target=\"\"><font size=\"3\"><b>be master of life</b></font></a>, <a href=\"//music.j-total.net/data/001a/010_aiko/061.html\" target=\"\"><font size=\"3\"><b>milk</b></font></a>, <a href=\"//music.j-total.net/data/001a/010_aiko/010.html\" target=\"\"><font size=\"3\"><b>あした</b></font></a>, <a href=\"//music.j-total.net/data/001a/010_aiko/092.html\" target=\"\"><font size=\"3\"><b>あたしの向こう</b></font></a>, <a href=\"//music.j-total.net/data/001a/010_aiko/008.html\" target=\"\"><font size=\"3\"><b>あなたと握手</b></font></a>, <a href=\"//music.j-total.net/data/001a/010_aiko/084.html\" target=\"\"><font size=\"3\"><b>あなたを連れて</b></font></a>, <a href=\"//music.j-total.net/data/001a/010_aiko/017.html\" target=\"\"><font size=\"3\"><b>えりあし</b></font></a>, <a href=\"//music.j-total.net/data/001a/010_aiko/011.html\" target=\"\"><font size=\"3\"><b>おやすみなさい</b></font></a>, <a href=\"//music.j-total.net/data/001a/010_aiko/109.html\" target=\"\"><font size=\"3\"><b>かけらの心</b></font></a>, <a href=\"//music.j-total.net/data/001a/010_aiko/018.html\" target=\"\"><font size=\"3\"><b>かばん</b></font></a>, <a href=\"//music.j-total.net/data/001a/010_aiko/070.html\" target=\"\"><font size=\"3\"><b>くちびる</b></font></a>, <a href=\"//music.j-total.net/data/001a/010_aiko/097.html\" target=\"\"><font size=\"3\"><b>さよなランド</b></font></a>, <a href=\"//music.j-total.net/data/001a/010_aiko/039.html\" target=\"\"><font size=\"3\"><b>すべての夜</b></font></a>]\n",
            "aiko 1 http://music.j-total.net/data/001a/010_aiko/100.html skipされた\n"
          ]
        },
        {
          "output_type": "error",
          "ename": "KeyboardInterrupt",
          "evalue": "ignored",
          "traceback": [
            "\u001b[0;31m---------------------------------------------------------------------------\u001b[0m",
            "\u001b[0;31mKeyboardInterrupt\u001b[0m                         Traceback (most recent call last)",
            "\u001b[0;32m<ipython-input-5-57e9d00624a9>\u001b[0m in \u001b[0;36m<cell line: 1>\u001b[0;34m()\u001b[0m\n\u001b[1;32m     57\u001b[0m                 \u001b[0mprint\u001b[0m\u001b[0;34m(\u001b[0m\u001b[0;34m'{} {} {} skipされた'\u001b[0m\u001b[0;34m.\u001b[0m\u001b[0mformat\u001b[0m\u001b[0;34m(\u001b[0m\u001b[0martist\u001b[0m\u001b[0;34m,\u001b[0m \u001b[0mp\u001b[0m\u001b[0;34m,\u001b[0m \u001b[0ms_url\u001b[0m\u001b[0;34m)\u001b[0m\u001b[0;34m)\u001b[0m\u001b[0;34m\u001b[0m\u001b[0;34m\u001b[0m\u001b[0m\n\u001b[1;32m     58\u001b[0m             \u001b[0msong_cnt\u001b[0m \u001b[0;34m+=\u001b[0m \u001b[0;36m1\u001b[0m\u001b[0;34m\u001b[0m\u001b[0;34m\u001b[0m\u001b[0m\n\u001b[0;32m---> 59\u001b[0;31m             \u001b[0mtime\u001b[0m\u001b[0;34m.\u001b[0m\u001b[0msleep\u001b[0m\u001b[0;34m(\u001b[0m\u001b[0;36m1\u001b[0m\u001b[0;34m)\u001b[0m \u001b[0;31m# お約束\u001b[0m\u001b[0;34m\u001b[0m\u001b[0;34m\u001b[0m\u001b[0m\n\u001b[0m\u001b[1;32m     60\u001b[0m \u001b[0;34m\u001b[0m\u001b[0m\n\u001b[1;32m     61\u001b[0m     \u001b[0mprint\u001b[0m\u001b[0;34m(\u001b[0m\u001b[0;34m'{} ok'\u001b[0m\u001b[0;34m.\u001b[0m\u001b[0mformat\u001b[0m\u001b[0;34m(\u001b[0m\u001b[0martist\u001b[0m\u001b[0;34m)\u001b[0m\u001b[0;34m)\u001b[0m\u001b[0;34m\u001b[0m\u001b[0;34m\u001b[0m\u001b[0m\n",
            "\u001b[0;31mKeyboardInterrupt\u001b[0m: "
          ]
        }
      ]
    },
    {
      "cell_type": "code",
      "source": [],
      "metadata": {
        "id": "XEjDsj3NEtBB"
      },
      "execution_count": null,
      "outputs": []
    }
  ]
}